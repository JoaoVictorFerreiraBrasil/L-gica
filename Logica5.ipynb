{
  "nbformat": 4,
  "nbformat_minor": 0,
  "metadata": {
    "colab": {
      "provenance": [],
      "authorship_tag": "ABX9TyOnflLLuBdlDk5QxekD8eTL",
      "include_colab_link": true
    },
    "kernelspec": {
      "name": "python3",
      "display_name": "Python 3"
    },
    "language_info": {
      "name": "python"
    }
  },
  "cells": [
    {
      "cell_type": "markdown",
      "metadata": {
        "id": "view-in-github",
        "colab_type": "text"
      },
      "source": [
        "<a href=\"https://colab.research.google.com/github/JoaoVictorbrasil88/L-gica/blob/main/Logica5.ipynb\" target=\"_parent\"><img src=\"https://colab.research.google.com/assets/colab-badge.svg\" alt=\"Open In Colab\"/></a>"
      ]
    },
    {
      "cell_type": "code",
      "execution_count": 2,
      "metadata": {
        "colab": {
          "base_uri": "https://localhost:8080/"
        },
        "id": "wZk22D8R5T1O",
        "outputId": "bb0ae093-ee75-4bfd-8468-1f08c5dfc626"
      },
      "outputs": [
        {
          "output_type": "stream",
          "name": "stdout",
          "text": [
            "String original: Olá, mundo!\n",
            "String invertida: !odnum ,álO\n"
          ]
        }
      ],
      "source": [
        "def inverter_string(s):\n",
        "    resultado = \"\"\n",
        "\n",
        "    for i in range(len(s) - 1, -1, -1):\n",
        "\n",
        "        resultado += s[i]\n",
        "\n",
        "    return resultado\n",
        "\n",
        "minha_string = \"Olá, mundo!\"\n",
        "string_invertida = inverter_string(minha_string)\n",
        "print(f\"String original: {minha_string}\")\n",
        "print(f\"String invertida: {string_invertida}\")\n",
        "\n"
      ]
    },
    {
      "cell_type": "code",
      "source": [],
      "metadata": {
        "id": "mkpUc7x65XZD"
      },
      "execution_count": null,
      "outputs": []
    }
  ]
}